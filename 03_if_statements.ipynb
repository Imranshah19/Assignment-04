{
  "nbformat": 4,
  "nbformat_minor": 0,
  "metadata": {
    "colab": {
      "provenance": [],
      "authorship_tag": "ABX9TyMhtFEt0efPFXcVqaBZqX2k",
      "include_colab_link": true
    },
    "kernelspec": {
      "name": "python3",
      "display_name": "Python 3"
    },
    "language_info": {
      "name": "python"
    }
  },
  "cells": [
    {
      "cell_type": "markdown",
      "metadata": {
        "id": "view-in-github",
        "colab_type": "text"
      },
      "source": [
        "<a href=\"https://colab.research.google.com/github/Imranshah19/Assignment-04/blob/main/03_if_statements.ipynb\" target=\"_parent\"><img src=\"https://colab.research.google.com/assets/colab-badge.svg\" alt=\"Open In Colab\"/></a>"
      ]
    },
    {
      "cell_type": "markdown",
      "source": [
        "# 01_print_events.md"
      ],
      "metadata": {
        "id": "iFxBMiTmZpOS"
      }
    },
    {
      "cell_type": "code",
      "source": [
        "def main():\n",
        "    # This for-loop starts at 0 and counts up to 19 (for a total of 20 numbers)\n",
        "    for i in range(20):\n",
        "        print(i * 2, end=' ')  # Multiply by 2 to get even numbers, print in one line\n",
        "\n",
        "# This line is required to call the main function\n",
        "if __name__ == '__main__':\n",
        "    main()\n"
      ],
      "metadata": {
        "colab": {
          "base_uri": "https://localhost:8080/"
        },
        "id": "Gg6hIWggbPFr",
        "outputId": "ec86c664-7721-415c-ac9b-b1093864e842"
      },
      "execution_count": 3,
      "outputs": [
        {
          "output_type": "stream",
          "name": "stdout",
          "text": [
            "0 2 4 6 8 10 12 14 16 18 20 22 24 26 28 30 32 34 36 38 "
          ]
        }
      ]
    },
    {
      "cell_type": "markdown",
      "source": [
        "# 02_international_voting_age.md"
      ],
      "metadata": {
        "id": "JSyP95msc2YS"
      }
    },
    {
      "cell_type": "code",
      "source": [
        "# Define voting ages for each fictional country\n",
        "PETURKSBOUIPO_AGE: int = 16\n",
        "STANLAU_AGE: int = 25\n",
        "MAYENGUA_AGE: int = 48\n",
        "\n",
        "def main():\n",
        "    # Ask user for their age\n",
        "    user_age = int(input(\"How old are you? \"))\n",
        "\n",
        "    # Check eligibility for Peturksbouipo\n",
        "    if user_age >= PETURKSBOUIPO_AGE:\n",
        "        print(\"You can vote in Peturksbouipo where the voting age is \" + str(PETURKSBOUIPO_AGE) + \".\")\n",
        "    else:\n",
        "        print(\"You cannot vote in Peturksbouipo where the voting age is \" + str(PETURKSBOUIPO_AGE) + \".\")\n",
        "\n",
        "    # Check eligibility for Stanlau\n",
        "    if user_age >= STANLAU_AGE:\n",
        "        print(\"You can vote in Stanlau where the voting age is \" + str(STANLAU_AGE) + \".\")\n",
        "    else:\n",
        "        print(\"You cannot vote in Stanlau where the voting age is \" + str(STANLAU_AGE) + \".\")\n",
        "\n",
        "    # Check eligibility for Mayengua\n",
        "    if user_age >= MAYENGUA_AGE:\n",
        "        print(\"You can vote in Mayengua where the voting age is \" + str(MAYENGUA_AGE) + \".\")\n",
        "    else:\n",
        "        print(\"You cannot vote in Mayengua where the voting age is \" + str(MAYENGUA_AGE) + \".\")\n",
        "\n",
        "# This line is required to run the main function\n",
        "if __name__ == '__main__':\n",
        "    main()\n"
      ],
      "metadata": {
        "colab": {
          "base_uri": "https://localhost:8080/"
        },
        "id": "DQhN9qeHc4sJ",
        "outputId": "8758d0f4-1a9e-49b1-e8de-5f229323f576"
      },
      "execution_count": 5,
      "outputs": [
        {
          "output_type": "stream",
          "name": "stdout",
          "text": [
            "How old are you? 48\n",
            "You can vote in Peturksbouipo where the voting age is 16.\n",
            "You can vote in Stanlau where the voting age is 25.\n",
            "You can vote in Mayengua where the voting age is 48.\n"
          ]
        }
      ]
    },
    {
      "cell_type": "markdown",
      "source": [
        "# 03_leap_year.md"
      ],
      "metadata": {
        "id": "uX0GeKpmf3Xf"
      }
    },
    {
      "cell_type": "code",
      "source": [
        "def main():\n",
        "    # Ask the user to enter a year\n",
        "    year = int(input('Please input a year: '))\n",
        "\n",
        "    # Check if the year is evenly divisible by 4\n",
        "    if year % 4 == 0:\n",
        "        # If it is also divisible by 100\n",
        "        if year % 100 == 0:\n",
        "            # Then check if it is also divisible by 400\n",
        "            if year % 400 == 0:\n",
        "                print(\"That's a leap year!\")  # Divisible by 400 → Leap year\n",
        "            else:\n",
        "                print(\"That's not a leap year.\")  # Divisible by 100 but not 400 → Not a leap year\n",
        "        else:\n",
        "            print(\"That's a leap year!\")  # Divisible by 4 but not 100 → Leap year\n",
        "    else:\n",
        "        print(\"That's not a leap year.\")  # Not divisible by 4 → Not a leap year\n",
        "\n",
        "# Required line to run the main function\n",
        "if __name__ == '__main__':\n",
        "    main()\n"
      ],
      "metadata": {
        "colab": {
          "base_uri": "https://localhost:8080/"
        },
        "id": "lKe1wrG2f5mg",
        "outputId": "6aeb8520-c935-42cd-9af5-cbd9f3e66b9c"
      },
      "execution_count": 11,
      "outputs": [
        {
          "output_type": "stream",
          "name": "stdout",
          "text": [
            "Please input a year: 2020\n",
            "That's a leap year!\n"
          ]
        }
      ]
    },
    {
      "cell_type": "markdown",
      "source": [
        "# 04_tall_enough_to_ride.md"
      ],
      "metadata": {
        "id": "4NUbDjXkhNLs"
      }
    },
    {
      "cell_type": "code",
      "source": [
        "# Set the minimum height required\n",
        "MINIMUM_HEIGHT: int = 50  # You can assume units like inches or centimeters\n",
        "\n",
        "def main():\n",
        "    # Ask the user for their height\n",
        "    height = float(input(\"How tall are you? \"))\n",
        "\n",
        "    # Check if the user meets the minimum height requirement\n",
        "    if height >= MINIMUM_HEIGHT:\n",
        "        print(\"You're tall enough to ride!\")\n",
        "    else:\n",
        "        print(\"You're not tall enough to ride, but maybe next year!\")\n",
        "\n",
        "# This line ensures the main() function runs when the file is executed\n",
        "if __name__ == '__main__':\n",
        "    main()\n"
      ],
      "metadata": {
        "colab": {
          "base_uri": "https://localhost:8080/"
        },
        "id": "p2tcMf5nhVrj",
        "outputId": "cf7cca78-280e-4d43-e89d-35cbbaa06285"
      },
      "execution_count": 14,
      "outputs": [
        {
          "output_type": "stream",
          "name": "stdout",
          "text": [
            "How tall are you? 20\n",
            "You're not tall enough to ride, but maybe next year!\n"
          ]
        }
      ]
    },
    {
      "cell_type": "code",
      "source": [
        "# Minimum height required to ride\n",
        "MINIMUM_HEIGHT: int = 50\n",
        "\n",
        "def tall_enough_extension():\n",
        "    while True:\n",
        "        user_input = input(\"How tall are you? (Press Enter to quit): \")\n",
        "\n",
        "        # Stop if the input is blank\n",
        "        if user_input == \"\":\n",
        "            print(\"Goodbye!\")\n",
        "            break\n",
        "\n",
        "        # Convert the input to float (for decimal values like 49.5)\n",
        "        height = float(user_input)\n",
        "\n",
        "        # Check if the height meets the requirement\n",
        "        if height >= MINIMUM_HEIGHT:\n",
        "            print(\"You're tall enough to ride!\")\n",
        "        else:\n",
        "            print(\"You're not tall enough to ride, but maybe next year!\")\n",
        "\n",
        "# Run the extended version\n",
        "if __name__ == '__main__':\n",
        "    tall_enough_extension()\n"
      ],
      "metadata": {
        "colab": {
          "base_uri": "https://localhost:8080/"
        },
        "id": "srShRvONjANq",
        "outputId": "0d7ba81f-7157-4d1b-ce65-be98d5a8d9df"
      },
      "execution_count": 15,
      "outputs": [
        {
          "output_type": "stream",
          "name": "stdout",
          "text": [
            "How tall are you? (Press Enter to quit): 40\n",
            "You're not tall enough to ride, but maybe next year!\n",
            "How tall are you? (Press Enter to quit): 41\n",
            "You're not tall enough to ride, but maybe next year!\n",
            "How tall are you? (Press Enter to quit): 45\n",
            "You're not tall enough to ride, but maybe next year!\n",
            "How tall are you? (Press Enter to quit): 49\n",
            "You're not tall enough to ride, but maybe next year!\n",
            "How tall are you? (Press Enter to quit): 50\n",
            "You're tall enough to ride!\n",
            "How tall are you? (Press Enter to quit): \n",
            "Goodbye!\n"
          ]
        }
      ]
    },
    {
      "cell_type": "markdown",
      "source": [
        "# 05_random_numbers.md"
      ],
      "metadata": {
        "id": "ph2wb7V-kyt0"
      }
    },
    {
      "cell_type": "code",
      "source": [
        "import random\n",
        "\n",
        "N_NUMBERS: int = 10  # Total number of random numbers to generate\n",
        "MIN_VALUE: int = 1    # Minimum value (inclusive)\n",
        "MAX_VALUE: int = 100  # Maximum value (inclusive)\n",
        "\n",
        "def main():\n",
        "    # Generate and print 10 random numbers in the range 1 to 100\n",
        "    for _ in range(N_NUMBERS):\n",
        "        print(random.randint(MIN_VALUE, MAX_VALUE), end=\" \")\n",
        "\n",
        "# This line ensures the main() function runs when the file is executed\n",
        "if __name__ == '__main__':\n",
        "    main()\n"
      ],
      "metadata": {
        "colab": {
          "base_uri": "https://localhost:8080/"
        },
        "id": "MeuVS0G9k09V",
        "outputId": "972f727e-df80-40fa-c341-8a21815f00a9"
      },
      "execution_count": 21,
      "outputs": [
        {
          "output_type": "stream",
          "name": "stdout",
          "text": [
            "64 75 37 17 13 44 34 82 85 5 "
          ]
        }
      ]
    }
  ]
}