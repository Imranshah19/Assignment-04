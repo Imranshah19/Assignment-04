{
  "nbformat": 4,
  "nbformat_minor": 0,
  "metadata": {
    "colab": {
      "provenance": [],
      "authorship_tag": "ABX9TyOr6Uxbe0AO2MJNQxe19uRe",
      "include_colab_link": true
    },
    "kernelspec": {
      "name": "python3",
      "display_name": "Python 3"
    },
    "language_info": {
      "name": "python"
    }
  },
  "cells": [
    {
      "cell_type": "markdown",
      "metadata": {
        "id": "view-in-github",
        "colab_type": "text"
      },
      "source": [
        "<a href=\"https://colab.research.google.com/github/Imranshah19/Assignment-04/blob/main/00_intro_python.ipynb\" target=\"_parent\"><img src=\"https://colab.research.google.com/assets/colab-badge.svg\" alt=\"Open In Colab\"/></a>"
      ]
    },
    {
      "cell_type": "markdown",
      "source": [
        "# 01_add_two_numbers.**md**"
      ],
      "metadata": {
        "id": "v2rPkzHSuJo4"
      }
    },
    {
      "cell_type": "code",
      "execution_count": null,
      "metadata": {
        "id": "35i9gkXyi2rD"
      },
      "outputs": [],
      "source": [
        "def main():\n",
        "    # ask first number\n",
        "    first_number = int(input(\"enter first number\"))\n",
        "\n",
        "    # ask second number\n",
        "    second_number = int(input(\"enter second number\"))\n",
        "\n",
        "    # sum\n",
        "    total = first_number + second_number\n",
        "\n",
        "    # result\n",
        "    print(\"Total is:\", total)\n",
        "\n",
        "\n",
        "# main  call to function\n",
        "main()\n",
        "\n"
      ]
    },
    {
      "cell_type": "markdown",
      "source": [],
      "metadata": {
        "id": "hnnq7nWFvMhl"
      }
    },
    {
      "cell_type": "markdown",
      "source": [
        "# 02_agreement_bot.**md**"
      ],
      "metadata": {
        "id": "8k5lMmGIvPX8"
      }
    },
    {
      "cell_type": "code",
      "source": [
        "# ask favorite animal name\n",
        "favorite_animal = input(\"What's your favorite animal? \")\n",
        "\n",
        "# result\n",
        "print(\"My favorite animal is also \" + favorite_animal + \"!\")\n"
      ],
      "metadata": {
        "id": "eS_GvOkznuuU"
      },
      "execution_count": null,
      "outputs": []
    },
    {
      "cell_type": "markdown",
      "source": [
        "# 03_fahrenheit_to_celsius.**md**"
      ],
      "metadata": {
        "id": "IKxAgFGZvsRQ"
      }
    },
    {
      "cell_type": "code",
      "source": [
        "# Ask the user to enter temperature in Fahrenheit\n",
        "degrees_fahrenheit = float(input(\"Enter temperature in Fahrenheit: \"))\n",
        "\n",
        "# Convert Fahrenheit to Celsius using the formula\n",
        "degrees_celsius = (degrees_fahrenheit - 32) * 5.0 / 9.0\n",
        "\n",
        "# Print the result\n",
        "print(\"Temperature:\", degrees_fahrenheit, \"F =\", degrees_celsius, \"C\")\n"
      ],
      "metadata": {
        "colab": {
          "base_uri": "https://localhost:8080/"
        },
        "id": "UStTlrKLqPky",
        "outputId": "e748c6d4-a683-4ee3-902c-4464efe01ffd"
      },
      "execution_count": 10,
      "outputs": [
        {
          "output_type": "stream",
          "name": "stdout",
          "text": [
            "Enter temperature in Fahrenheit: 59\n",
            "Temperature: 59.0 F = 15.0 C\n"
          ]
        }
      ]
    },
    {
      "cell_type": "markdown",
      "source": [],
      "metadata": {
        "id": "paDVmMDVq-5H"
      }
    },
    {
      "cell_type": "markdown",
      "source": [
        "# 04_how_old_are_they.md"
      ],
      "metadata": {
        "id": "qrGWcMDFv8eQ"
      }
    },
    {
      "cell_type": "code",
      "source": [
        "# Anton's age\n",
        "anton = 21\n",
        "\n",
        "# Beth is 6 years older than Anton\n",
        "beth = anton + 6\n",
        "\n",
        "# Chen is 20 years older than Beth\n",
        "chen = beth + 20\n",
        "\n",
        "# Drew is as old as Chen's age plus Anton's age\n",
        "drew = chen + anton\n",
        "\n",
        "# Ethan is the same age as Chen\n",
        "ethan = chen\n",
        "\n",
        "# Print all ages exactly as required\n",
        "print(\"Anton is\", anton)\n",
        "print(\"Beth is\", beth)\n",
        "print(\"Chen is\", chen)\n",
        "print(\"Drew is\", drew)\n",
        "print(\"Ethan is\", ethan)\n"
      ],
      "metadata": {
        "colab": {
          "base_uri": "https://localhost:8080/"
        },
        "id": "yZ_6m1qEq_6U",
        "outputId": "c99d5b8f-4b0b-4030-cc1f-94ee2b39861e"
      },
      "execution_count": 14,
      "outputs": [
        {
          "output_type": "stream",
          "name": "stdout",
          "text": [
            "Anton is 21\n",
            "Beth is 27\n",
            "Chen is 47\n",
            "Drew is 68\n",
            "Ethan is 47\n"
          ]
        }
      ]
    },
    {
      "cell_type": "markdown",
      "source": [
        "# 05_triangle_perimeter.md"
      ],
      "metadata": {
        "id": "44vBWeYcwF4p"
      }
    },
    {
      "cell_type": "code",
      "source": [
        "# Prompt the user to enter the length of side 1\n",
        "side1 = float(input(\"What is the length of side 1? \"))\n",
        "\n",
        "# Prompt the user to enter the length of side 2\n",
        "side2 = float(input(\"What is the length of side 2? \"))\n",
        "\n",
        "# Prompt the user to enter the length of side 3\n",
        "side3 = float(input(\"What is the length of side 3? \"))\n",
        "\n",
        "# Calculate the perimeter\n",
        "perimeter = side1 + side2 + side3\n",
        "\n",
        "# Print the perimeter\n",
        "print(\"The perimeter of the triangle is\", perimeter)\n"
      ],
      "metadata": {
        "colab": {
          "base_uri": "https://localhost:8080/"
        },
        "id": "2CsSUGFhstA3",
        "outputId": "676e8b88-1fc3-42a9-c1e6-59cbbcd48c70"
      },
      "execution_count": 15,
      "outputs": [
        {
          "output_type": "stream",
          "name": "stdout",
          "text": [
            "What is the length of side 1? 3\n",
            "What is the length of side 2? 4\n",
            "What is the length of side 3? 5.5\n",
            "The perimeter of the triangle is 12.5\n"
          ]
        }
      ]
    },
    {
      "cell_type": "markdown",
      "source": [
        "# 06_square_number.md"
      ],
      "metadata": {
        "id": "orarQfmRwMsx"
      }
    },
    {
      "cell_type": "code",
      "source": [
        "# Ask the user to input a number\n",
        "number = float(input(\"Type a number to see its square: \"))\n",
        "\n",
        "# Calculate the square of the number\n",
        "square = number ** 2\n",
        "\n",
        "# Print the result\n",
        "print(f\"{number} squared is {square}\")\n"
      ],
      "metadata": {
        "colab": {
          "base_uri": "https://localhost:8080/"
        },
        "id": "P_4RmZnrtawx",
        "outputId": "ba31bf11-242f-4d72-f3da-1e170b7f6f9f"
      },
      "execution_count": 16,
      "outputs": [
        {
          "output_type": "stream",
          "name": "stdout",
          "text": [
            "Type a number to see its square: 4\n",
            "4.0 squared is 16.0\n"
          ]
        }
      ]
    }
  ]
}