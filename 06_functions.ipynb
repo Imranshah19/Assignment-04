{
  "nbformat": 4,
  "nbformat_minor": 0,
  "metadata": {
    "colab": {
      "provenance": [],
      "authorship_tag": "ABX9TyN+O0X73YdvoNuXLMagJBkD",
      "include_colab_link": true
    },
    "kernelspec": {
      "name": "python3",
      "display_name": "Python 3"
    },
    "language_info": {
      "name": "python"
    }
  },
  "cells": [
    {
      "cell_type": "markdown",
      "metadata": {
        "id": "view-in-github",
        "colab_type": "text"
      },
      "source": [
        "<a href=\"https://colab.research.google.com/github/Imranshah19/Assignment-04/blob/main/06_functions.ipynb\" target=\"_parent\"><img src=\"https://colab.research.google.com/assets/colab-badge.svg\" alt=\"Open In Colab\"/></a>"
      ]
    },
    {
      "cell_type": "markdown",
      "source": [
        "# 00_averages.md"
      ],
      "metadata": {
        "id": "2WiLqVnlXTUx"
      }
    },
    {
      "cell_type": "code",
      "execution_count": 1,
      "metadata": {
        "colab": {
          "base_uri": "https://localhost:8080/"
        },
        "id": "X91KtLBVXQJY",
        "outputId": "87a58d4d-7d2b-4c1b-d2e5-ccca7a932000"
      },
      "outputs": [
        {
          "output_type": "stream",
          "name": "stdout",
          "text": [
            "avg_1: 5.0\n",
            "avg_2: 9.0\n",
            "final: 7.0\n"
          ]
        }
      ],
      "source": [
        "# Function to calculate the average of two numbers\n",
        "def average(a: float, b: float) -> float:\n",
        "    \"\"\"\n",
        "    Returns the number which is halfway between a and b.\n",
        "    \"\"\"\n",
        "    sum = a + b           # Add both numbers\n",
        "    result = sum / 2      # Divide the sum by 2 to get the average\n",
        "    return result         # Return the result\n",
        "\n",
        "# Main function where we use the average function\n",
        "def main():\n",
        "    avg_1 = average(0, 10)      # Average of 0 and 10 => 5.0\n",
        "    avg_2 = average(8, 10)      # Average of 8 and 10 => 9.0\n",
        "\n",
        "    final = average(avg_1, avg_2)  # Average of avg_1 and avg_2 => average of 5.0 and 9.0 => 7.0\n",
        "\n",
        "    # Print the results\n",
        "    print(\"avg_1:\", avg_1)\n",
        "    print(\"avg_2:\", avg_2)\n",
        "    print(\"final:\", final)\n",
        "\n",
        "# This ensures the main() function runs when this script is executed\n",
        "if __name__ == '__main__':\n",
        "    main()\n"
      ]
    },
    {
      "cell_type": "markdown",
      "source": [
        "# 01_chaotic_counting.md"
      ],
      "metadata": {
        "id": "L2Phm6u5Ydzd"
      }
    },
    {
      "cell_type": "code",
      "source": [
        "import random\n",
        "\n",
        "# You can adjust this number between 0 and 1 to control the randomness of stopping\n",
        "DONE_LIKELIHOOD = 0.3  # 30% chance to stop at each step\n",
        "\n",
        "def done():\n",
        "    \"\"\" Returns True with a probability of DONE_LIKELIHOOD \"\"\"\n",
        "    return random.random() < DONE_LIKELIHOOD\n",
        "\n",
        "def chaotic_counting():\n",
        "    for i in range(10):  # Numbers from 1 to 10\n",
        "        curr_num = i + 1\n",
        "        if done():\n",
        "            return  # Stop counting if done() returns True\n",
        "        print(curr_num, end=' ')  # Print on the same line with space\n",
        "\n",
        "def main():\n",
        "    print(\"I'm going to count until 10 or until I feel like stopping, whichever comes first.\")\n",
        "    chaotic_counting()\n",
        "    print(\"\\nI'm done\")  # Move to next line and print the ending message\n",
        "\n",
        "if __name__ == '__main__':\n",
        "    main()\n"
      ],
      "metadata": {
        "colab": {
          "base_uri": "https://localhost:8080/"
        },
        "id": "7PHghj5YYg_C",
        "outputId": "78dc4593-087d-41a0-ae0d-570e8272463b"
      },
      "execution_count": 8,
      "outputs": [
        {
          "output_type": "stream",
          "name": "stdout",
          "text": [
            "I'm going to count until 10 or until I feel like stopping, whichever comes first.\n",
            "1 2 3 4 \n",
            "I'm done\n"
          ]
        }
      ]
    },
    {
      "cell_type": "markdown",
      "source": [
        "# 02_count_even.md"
      ],
      "metadata": {
        "id": "qmOCyCqLZrnx"
      }
    },
    {
      "cell_type": "code",
      "source": [
        "def count_even(lst):\n",
        "    \"\"\"\n",
        "    Prints the number of even numbers in the given list.\n",
        "\n",
        "    Example:\n",
        "    >>> count_even([1, 2, 3, 4])\n",
        "    2\n",
        "    \"\"\"\n",
        "    count = 0\n",
        "    for num in lst:\n",
        "        if num % 2 == 0:\n",
        "            count += 1\n",
        "    print(\"Number of even numbers:\", count)\n",
        "\n",
        "def get_list_of_ints():\n",
        "    \"\"\"\n",
        "    Prompts the user to enter integers until they press Enter without input.\n",
        "    Returns the list of entered integers.\n",
        "    \"\"\"\n",
        "    lst = []\n",
        "    while True:\n",
        "        user_input = input(\"Enter an integer or press enter to stop: \")\n",
        "        if user_input == \"\":\n",
        "            break\n",
        "        try:\n",
        "            lst.append(int(user_input))\n",
        "        except ValueError:\n",
        "            print(\"Please enter a valid integer.\")\n",
        "    return lst\n",
        "\n",
        "def main():\n",
        "    lst = get_list_of_ints()  # Get the list from user input\n",
        "    count_even(lst)           # Count and print number of even numbers\n",
        "\n",
        "# This ensures the main() function runs when this script is executed\n",
        "if __name__ == '__main__':\n",
        "    main()\n"
      ],
      "metadata": {
        "colab": {
          "base_uri": "https://localhost:8080/"
        },
        "id": "H9dR6LhiZuC-",
        "outputId": "e95e816b-0be3-46dd-bd64-c7b2494835f6"
      },
      "execution_count": 9,
      "outputs": [
        {
          "output_type": "stream",
          "name": "stdout",
          "text": [
            "Enter an integer or press enter to stop: 1\n",
            "Enter an integer or press enter to stop: 2\n",
            "Enter an integer or press enter to stop: 3\n",
            "Enter an integer or press enter to stop: 4\n",
            "Enter an integer or press enter to stop: 56\n",
            "Enter an integer or press enter to stop: \n",
            "Number of even numbers: 3\n"
          ]
        }
      ]
    },
    {
      "cell_type": "markdown",
      "source": [
        "# 04_double.md"
      ],
      "metadata": {
        "id": "ZpJ4vw9QaVpY"
      }
    },
    {
      "cell_type": "code",
      "source": [
        "# Function that doubles the input number\n",
        "def double(num: int):\n",
        "    return num * 2  # Multiply the number by 2 and return it\n",
        "\n",
        "# Main function that interacts with the user\n",
        "def main():\n",
        "    num = int(input(\"Enter a number: \"))        # Ask user for a number\n",
        "    num_times_2 = double(num)                   # Call the function to double the number\n",
        "    print(\"Double that is\", num_times_2)        # Print the result\n",
        "\n",
        "# Ensures that main() runs when the script is executed\n",
        "if __name__ == '__main__':\n",
        "    main()\n"
      ],
      "metadata": {
        "colab": {
          "base_uri": "https://localhost:8080/"
        },
        "id": "joXClh2pabR3",
        "outputId": "62240680-9dd6-4bbb-eac9-1e9c0523f010"
      },
      "execution_count": 11,
      "outputs": [
        {
          "output_type": "stream",
          "name": "stdout",
          "text": [
            "Enter a number: 10\n",
            "Double that is 20\n"
          ]
        }
      ]
    },
    {
      "cell_type": "markdown",
      "source": [
        "# 05_get_name.md"
      ],
      "metadata": {
        "id": "eNqyH2qgazC_"
      }
    },
    {
      "cell_type": "code",
      "source": [
        "# Function that returns a name\n",
        "def get_name():\n",
        "    return \"Sophia\"  # The name expected by the autograder\n",
        "\n",
        "# Main function that prints a greeting using the name\n",
        "def main():\n",
        "    name = get_name()  # Call the get_name function to get the name\n",
        "    print(\"Howdy\", name, \"! 🤠\")  # Print greeting with the name\n",
        "\n",
        "# Ensures that main() runs when the script is executed\n",
        "if __name__ == '__main__':\n",
        "    main()\n"
      ],
      "metadata": {
        "colab": {
          "base_uri": "https://localhost:8080/"
        },
        "id": "WHcegYPja1tD",
        "outputId": "f049fe35-54aa-4438-c7a3-908853a1a460"
      },
      "execution_count": 13,
      "outputs": [
        {
          "output_type": "stream",
          "name": "stdout",
          "text": [
            "Howdy Sophia ! 🤠\n"
          ]
        }
      ]
    },
    {
      "cell_type": "markdown",
      "source": [
        "# 06_is_odd.md"
      ],
      "metadata": {
        "id": "UPmk5WSIbYiM"
      }
    },
    {
      "cell_type": "code",
      "source": [
        "def is_odd(value: int):\n",
        "    \"\"\"\n",
        "    Checks to see if a value is odd. If it is, returns True.\n",
        "    \"\"\"\n",
        "    remainder = value % 2  # 0 if value is divisible by 2, 1 if it isn't\n",
        "    return remainder == 1\n",
        "\n",
        "def main():\n",
        "    for i in range(10, 20):  # Loop from 10 to 19\n",
        "        if is_odd(i):\n",
        "            print(i, \"odd\")\n",
        "        else:\n",
        "            print(i, \"even\")\n",
        "\n",
        "# Ensures that main() runs when the script is executed\n",
        "if __name__ == '__main__':\n",
        "    main()\n"
      ],
      "metadata": {
        "colab": {
          "base_uri": "https://localhost:8080/"
        },
        "id": "gERYvtrkbax5",
        "outputId": "a8d95272-19e3-4e4d-ef1a-2805739c7985"
      },
      "execution_count": 15,
      "outputs": [
        {
          "output_type": "stream",
          "name": "stdout",
          "text": [
            "10 even\n",
            "11 odd\n",
            "12 even\n",
            "13 odd\n",
            "14 even\n",
            "15 odd\n",
            "16 even\n",
            "17 odd\n",
            "18 even\n",
            "19 odd\n"
          ]
        }
      ]
    },
    {
      "cell_type": "markdown",
      "source": [
        "# 07_print_divisor.md"
      ],
      "metadata": {
        "id": "5DtDXBwdchjq"
      }
    },
    {
      "cell_type": "code",
      "source": [
        "# Helper function to print divisors of a number\n",
        "def print_divisors(num: int):\n",
        "    print(\"Here are the divisors of\", num)\n",
        "    for i in range(1, num + 1):  # Loop from 1 to num (inclusive)\n",
        "        if num % i == 0:         # Check if i is a divisor of num\n",
        "            print(i)\n",
        "\n",
        "# Main function to take input and call the helper\n",
        "def main():\n",
        "    num = int(input(\"Enter a number: \"))  # Ask user to enter a number\n",
        "    print_divisors(num)                   # Call function to print its divisors\n",
        "\n",
        "# Required to run main() in Google Colab or any Python script\n",
        "if __name__ == '__main__':\n",
        "    main()\n"
      ],
      "metadata": {
        "colab": {
          "base_uri": "https://localhost:8080/"
        },
        "id": "ysFhYLUccjRj",
        "outputId": "d533dd41-2709-49ea-d06a-9ac598d10cf6"
      },
      "execution_count": 19,
      "outputs": [
        {
          "output_type": "stream",
          "name": "stdout",
          "text": [
            "Enter a number: 12\n",
            "Here are the divisors of 12\n",
            "1\n",
            "2\n",
            "3\n",
            "4\n",
            "6\n",
            "12\n"
          ]
        }
      ]
    },
    {
      "cell_type": "markdown",
      "source": [
        "# 08_print_multiple.md"
      ],
      "metadata": {
        "id": "yiBRVl6kdSLZ"
      }
    },
    {
      "cell_type": "code",
      "source": [
        "# Helper function to print the message multiple times\n",
        "def print_multiple(message: str, repeats: int):\n",
        "    for i in range(repeats):\n",
        "        print(message)\n",
        "\n",
        "# Main function to interact with the user\n",
        "def main():\n",
        "    message = input(\"Please type a message: \")\n",
        "    repeats = int(input(\"Enter a number of times to repeat your message: \"))\n",
        "    print_multiple(message, repeats)\n",
        "\n",
        "# Required to run main() when the script is executed\n",
        "if __name__ == '__main__':\n",
        "    main()\n"
      ],
      "metadata": {
        "colab": {
          "base_uri": "https://localhost:8080/"
        },
        "id": "EP-P0RxkdUoG",
        "outputId": "feff15f0-5b47-4fb7-c7ca-44da20c0a75d"
      },
      "execution_count": 21,
      "outputs": [
        {
          "output_type": "stream",
          "name": "stdout",
          "text": [
            "Please type a message: hellow\n",
            "Enter a number of times to repeat your message: 10\n",
            "hellow\n",
            "hellow\n",
            "hellow\n",
            "hellow\n",
            "hellow\n",
            "hellow\n",
            "hellow\n",
            "hellow\n",
            "hellow\n",
            "hellow\n"
          ]
        }
      ]
    },
    {
      "cell_type": "markdown",
      "source": [
        "# 09_sentence_generator.md"
      ],
      "metadata": {
        "id": "8ciDHs2xd-N0"
      }
    },
    {
      "cell_type": "code",
      "source": [
        "# Helper function to create and print a sentence using the given word and part of speech\n",
        "def make_sentence(word, part_of_speech):\n",
        "    if part_of_speech == 0:\n",
        "        # Noun\n",
        "        print(\"I am excited to add this \" + word + \" to my vast collection of them!\")\n",
        "    elif part_of_speech == 1:\n",
        "        # Verb\n",
        "        print(\"It's so nice outside today it makes me want to \" + word + \"!\")\n",
        "    elif part_of_speech == 2:\n",
        "        # Adjective\n",
        "        print(\"Looking out my window, the sky is big and \" + word + \"!\")\n",
        "    else:\n",
        "        # Invalid part of speech\n",
        "        print(\"Part of speech must be 0, 1, or 2! Can't make a sentence.\")\n",
        "\n",
        "# Main function to get user input\n",
        "def main():\n",
        "    word = input(\"Please type a noun, verb, or adjective: \")\n",
        "    print(\"Is this a noun, verb, or adjective?\")\n",
        "    part_of_speech = int(input(\"Type 0 for noun, 1 for verb, 2 for adjective: \"))\n",
        "    make_sentence(word, part_of_speech)\n",
        "\n",
        "# Run the main function when the script is executed\n",
        "if __name__ == '__main__':\n",
        "    main()\n"
      ],
      "metadata": {
        "colab": {
          "base_uri": "https://localhost:8080/"
        },
        "id": "aWOiXVW5eBAW",
        "outputId": "759581da-d001-427e-de66-948f5c4533f3"
      },
      "execution_count": 22,
      "outputs": [
        {
          "output_type": "stream",
          "name": "stdout",
          "text": [
            "Please type a noun, verb, or adjective: apple\n",
            "Is this a noun, verb, or adjective?\n",
            "Type 0 for noun, 1 for verb, 2 for adjective: 0\n",
            "I am excited to add this apple to my vast collection of them!\n"
          ]
        }
      ]
    },
    {
      "cell_type": "markdown",
      "source": [
        "# 10_print_ones_digit.md"
      ],
      "metadata": {
        "id": "63vysEn5eyR7"
      }
    },
    {
      "cell_type": "code",
      "source": [
        "# Helper function to print the ones digit of a number\n",
        "def print_ones_digit(num):\n",
        "    print(\"The ones digit is\", num % 10)\n",
        "\n",
        "# Main function to get user input and call the helper\n",
        "def main():\n",
        "    num = int(input(\"Enter a number: \"))\n",
        "    print_ones_digit(num)\n",
        "\n",
        "# Ensures main() runs when the file is executed\n",
        "if __name__ == '__main__':\n",
        "    main()\n"
      ],
      "metadata": {
        "colab": {
          "base_uri": "https://localhost:8080/"
        },
        "id": "mpyX8OIOez-F",
        "outputId": "ee9d74a7-89bd-4773-957a-3eaafb3fb648"
      },
      "execution_count": 27,
      "outputs": [
        {
          "output_type": "stream",
          "name": "stdout",
          "text": [
            "Enter a number: 564\n",
            "The ones digit is 4\n"
          ]
        }
      ]
    }
  ]
}