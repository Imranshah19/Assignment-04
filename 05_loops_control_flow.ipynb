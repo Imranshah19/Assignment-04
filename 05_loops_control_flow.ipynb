{
  "nbformat": 4,
  "nbformat_minor": 0,
  "metadata": {
    "colab": {
      "provenance": [],
      "authorship_tag": "ABX9TyN7A13WxZP07VZOS6pImtzM",
      "include_colab_link": true
    },
    "kernelspec": {
      "name": "python3",
      "display_name": "Python 3"
    },
    "language_info": {
      "name": "python"
    }
  },
  "cells": [
    {
      "cell_type": "markdown",
      "metadata": {
        "id": "view-in-github",
        "colab_type": "text"
      },
      "source": [
        "<a href=\"https://colab.research.google.com/github/Imranshah19/Assignment-04/blob/main/05_loops_control_flow.ipynb\" target=\"_parent\"><img src=\"https://colab.research.google.com/assets/colab-badge.svg\" alt=\"Open In Colab\"/></a>"
      ]
    },
    {
      "cell_type": "markdown",
      "source": [
        "# 00_guess_my_number.md"
      ],
      "metadata": {
        "id": "Ntd1XUZt0gQx"
      }
    },
    {
      "cell_type": "code",
      "execution_count": null,
      "metadata": {
        "colab": {
          "base_uri": "https://localhost:8080/"
        },
        "id": "rJ8jcBmV0X6E",
        "outputId": "95365a26-c2ec-4dea-8c93-3dff3f8ac3dc"
      },
      "outputs": [
        {
          "output_type": "stream",
          "name": "stdout",
          "text": [
            "I am thinking of a number between 1 and 99...\n",
            "Enter a guess: 65\n",
            "Your guess is too low\n",
            "\n",
            "Enter a new guess: 85\n",
            "Your guess is too low\n",
            "\n",
            "Enter a new guess: 89\n",
            "Your guess is too high\n",
            "\n",
            "Enter a new guess: 86\n",
            "Your guess is too low\n",
            "\n",
            "Enter a new guess: 87\n",
            "Your guess is too low\n",
            "\n",
            "Enter a new guess: 88\n",
            "Congrats! The number was: 88\n"
          ]
        }
      ],
      "source": [
        "import random\n",
        "\n",
        "def main():\n",
        "    # Generate the secret number at random\n",
        "    secret_number = random.randint(1, 99)\n",
        "\n",
        "    print(\"I am thinking of a number between 1 and 99...\")\n",
        "\n",
        "    # Get user's guess\n",
        "    guess = int(input(\"Enter a guess: \"))\n",
        "\n",
        "    # Loop until the guess is correct\n",
        "    while guess != secret_number:\n",
        "        if guess < secret_number:\n",
        "            print(\"Your guess is too low\")\n",
        "        else:\n",
        "            print(\"Your guess is too high\")\n",
        "\n",
        "        print()  # Print an empty line for clarity\n",
        "        guess = int(input(\"Enter a new guess: \"))  # Get a new guess from the user\n",
        "\n",
        "    print(\"Congrats! The number was: \" + str(secret_number))\n",
        "\n",
        "if __name__ == '__main__':\n",
        "    main()\n"
      ]
    },
    {
      "cell_type": "markdown",
      "source": [
        "# 01_fibonacci.md"
      ],
      "metadata": {
        "id": "xqIVEgTh1lmo"
      }
    },
    {
      "cell_type": "code",
      "source": [
        "MAX_TERM_VALUE = 10000  # Constant defining the maximum value for Fibonacci terms\n",
        "\n",
        "def main():\n",
        "    curr_term = 0  # The 0th Fibonacci Number\n",
        "    next_term = 1  # The 1st Fibonacci Number\n",
        "\n",
        "    while curr_term <= MAX_TERM_VALUE:\n",
        "        print(curr_term, end=\" \")  # Print the current Fibonacci term on the same line\n",
        "        term_after_next = curr_term + next_term\n",
        "        curr_term = next_term\n",
        "        next_term = term_after_next\n",
        "\n",
        "# Calling the main function to run the program\n",
        "if __name__ == '__main__':\n",
        "    main()\n"
      ],
      "metadata": {
        "colab": {
          "base_uri": "https://localhost:8080/"
        },
        "id": "ZBuUSrb-1pBV",
        "outputId": "6b53d36c-18e2-4413-a6c3-63f3b15c3369"
      },
      "execution_count": 17,
      "outputs": [
        {
          "output_type": "stream",
          "name": "stdout",
          "text": [
            "0 1 1 2 3 5 8 13 21 34 55 89 144 233 377 610 987 1597 2584 4181 6765 "
          ]
        }
      ]
    },
    {
      "cell_type": "markdown",
      "source": [
        "# 02_print_events.md"
      ],
      "metadata": {
        "id": "Er8n_cck2bEb"
      }
    },
    {
      "cell_type": "code",
      "source": [
        "def main():\n",
        "    # This for-loop starts at 0 and counts up to 19 (for a total of 20 numbers)\n",
        "    for i in range(20):\n",
        "        print(i * 2, end=\" \")  # Multiply the index by 2 to get even numbers, and print them on the same line\n",
        "\n",
        "# Call the main function when \"run\", no need to edit anything below!\n",
        "if __name__ == \"__main__\":\n",
        "    main()\n"
      ],
      "metadata": {
        "colab": {
          "base_uri": "https://localhost:8080/"
        },
        "id": "GeCPHXJh2d98",
        "outputId": "e891008d-4607-46f6-a08a-2fc1c2dc6572"
      },
      "execution_count": 15,
      "outputs": [
        {
          "output_type": "stream",
          "name": "stdout",
          "text": [
            "0 2 4 6 8 10 12 14 16 18 20 22 24 26 28 30 32 34 36 38 "
          ]
        }
      ]
    },
    {
      "cell_type": "markdown",
      "source": [
        "# 03_wholesome_machine.md"
      ],
      "metadata": {
        "id": "Hj88XP4j2zQO"
      }
    },
    {
      "cell_type": "code",
      "source": [
        "AFFIRMATION = \"I am capable of doing anything I put my mind to.\"  # The affirmation to be typed\n",
        "\n",
        "def main():\n",
        "    print(\"Please type the following affirmation: \" + AFFIRMATION)  # Display the affirmation\n",
        "\n",
        "    user_feedback = input()  # Get user's input\n",
        "    while user_feedback != AFFIRMATION:  # While the user's input isn't the affirmation\n",
        "        # Notify the user that they haven't typed the affirmation correctly\n",
        "        print(\"That was not the affirmation.\")\n",
        "\n",
        "        # Ask the user to type the affirmation again!\n",
        "        print(\"Please type the following affirmation: \" + AFFIRMATION)\n",
        "        user_feedback = input()  # Get input again\n",
        "\n",
        "    # When the correct affirmation is typed\n",
        "    print(\"That's right! :)\")\n",
        "\n",
        "# Call the main function when the script is run\n",
        "if __name__ == '__main__':\n",
        "    main()\n"
      ],
      "metadata": {
        "id": "H62vzK-Z5VaR",
        "colab": {
          "base_uri": "https://localhost:8080/"
        },
        "outputId": "fab1f074-a91f-4203-a428-a3f603ba9787"
      },
      "execution_count": 13,
      "outputs": [
        {
          "output_type": "stream",
          "name": "stdout",
          "text": [
            "Please type the following affirmation: I am capable of doing anything I put my mind to.\n",
            "i am capable of doing anything i put my mind to.\n",
            "That was not the affirmation.\n",
            "Please type the following affirmation: I am capable of doing anything I put my mind to.\n",
            "I am capable of doing anything I put my mind to.\n",
            "That's right! :)\n"
          ]
        }
      ]
    },
    {
      "cell_type": "markdown",
      "source": [
        "# 04_liftoff.md"
      ],
      "metadata": {
        "id": "4FQt6LOr349t"
      }
    },
    {
      "cell_type": "code",
      "source": [
        "def main():\n",
        "    # Countdown from 10 to 1\n",
        "    for i in range(10, 0, -1):  # Start at 10, stop at 1, decrement by 1\n",
        "        print(i, end=\" \")  # Print each number on the same line\n",
        "    print(\"Liftoff!\")  # Print Liftoff after the countdown\n",
        "\n",
        "# Call the main function to run the program\n",
        "if __name__ == '__main__':\n",
        "    main()\n"
      ],
      "metadata": {
        "id": "cSw1eqVX38eI",
        "colab": {
          "base_uri": "https://localhost:8080/"
        },
        "outputId": "8cd49825-f38b-4ff3-e18e-b31f0138fd2b"
      },
      "execution_count": 12,
      "outputs": [
        {
          "output_type": "stream",
          "name": "stdout",
          "text": [
            "10 9 8 7 6 5 4 3 2 1 Liftoff!\n"
          ]
        }
      ]
    },
    {
      "cell_type": "markdown",
      "source": [
        "# 05_double_it.md"
      ],
      "metadata": {
        "id": "ae5_tCwx6sP2"
      }
    },
    {
      "cell_type": "code",
      "source": [
        "def main():\n",
        "    # Ask the user for a number\n",
        "    curr_value = int(input(\"Enter a number: \"))  # Get user input and convert it to an integer\n",
        "\n",
        "    # Loop until the current value is 100 or greater\n",
        "    while curr_value < 100:\n",
        "        print(curr_value, end=\" \")  # Print the current value on the same line\n",
        "        curr_value = curr_value * 2  # Double the current value\n",
        "\n",
        "    print(curr_value)  # Finally print the value when it is greater than or equal to 100\n",
        "\n",
        "# Call the main function when the script is run\n",
        "if __name__ == '__main__':\n",
        "    main()\n"
      ],
      "metadata": {
        "colab": {
          "base_uri": "https://localhost:8080/"
        },
        "id": "lMlkar1P6t9Y",
        "outputId": "db08a937-2fbc-4947-f593-11a03580dab8"
      },
      "execution_count": 11,
      "outputs": [
        {
          "output_type": "stream",
          "name": "stdout",
          "text": [
            "Enter a number: 4\n",
            "4 8 16 32 64 128\n"
          ]
        }
      ]
    }
  ]
}