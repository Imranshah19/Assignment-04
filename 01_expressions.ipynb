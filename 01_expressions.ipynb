{
  "nbformat": 4,
  "nbformat_minor": 0,
  "metadata": {
    "colab": {
      "provenance": [],
      "authorship_tag": "ABX9TyNqF2eL1UO4ceGjJJAO3ivY",
      "include_colab_link": true
    },
    "kernelspec": {
      "name": "python3",
      "display_name": "Python 3"
    },
    "language_info": {
      "name": "python"
    }
  },
  "cells": [
    {
      "cell_type": "markdown",
      "metadata": {
        "id": "view-in-github",
        "colab_type": "text"
      },
      "source": [
        "<a href=\"https://colab.research.google.com/github/Imranshah19/Assignment-04/blob/main/01_expressions.ipynb\" target=\"_parent\"><img src=\"https://colab.research.google.com/assets/colab-badge.svg\" alt=\"Open In Colab\"/></a>"
      ]
    },
    {
      "cell_type": "markdown",
      "source": [
        "# 01_dicesimulator.md"
      ],
      "metadata": {
        "id": "Rvlpv0ge2D2l"
      }
    },
    {
      "cell_type": "code",
      "execution_count": 1,
      "metadata": {
        "colab": {
          "base_uri": "https://localhost:8080/"
        },
        "id": "Bjosw7nG0WdU",
        "outputId": "fe24adbe-86fd-4939-d45f-36fb05328711"
      },
      "outputs": [
        {
          "output_type": "stream",
          "name": "stdout",
          "text": [
            "Rolling two dice three times...\n",
            "\n",
            "Die 1: 4 Die 2: 5\n",
            "Die 1: 3 Die 2: 3\n",
            "Die 1: 2 Die 2: 4\n"
          ]
        }
      ],
      "source": [
        "import random\n",
        "\n",
        "def roll_dice():\n",
        "    # These are local variables inside the function\n",
        "    die1 = random.randint(1, 6)\n",
        "    die2 = random.randint(1, 6)\n",
        "    print(\"Die 1:\", die1, \"Die 2:\", die2)\n",
        "\n",
        "def main():\n",
        "    print(\"Rolling two dice three times...\\n\")\n",
        "\n",
        "    roll_dice()  # First roll\n",
        "    roll_dice()  # Second roll\n",
        "    roll_dice()  # Third roll\n",
        "\n",
        "    # Trying to print die1 or die2 here would cause an error:\n",
        "    # print(die1)  # ❌ This will cause a NameError\n",
        "\n",
        "main()\n"
      ]
    },
    {
      "cell_type": "markdown",
      "source": [
        "# 02_e=mc2.md"
      ],
      "metadata": {
        "id": "YxAWWn_t2zCS"
      }
    },
    {
      "cell_type": "code",
      "source": [
        "# Constant: Speed of light in meters per second\n",
        "C = 299792458\n",
        "\n",
        "# Ask user for mass in kilograms\n",
        "mass = float(input(\"Enter kilos of mass: \"))\n",
        "\n",
        "# Display the formula explanation\n",
        "print(\"\\ne = m * C^2...\")\n",
        "\n",
        "# Show values\n",
        "print(\"m =\", mass, \"kg\")\n",
        "print(\"C =\", C, \"m/s\")\n",
        "\n",
        "# Calculate energy using E = m * c^2\n",
        "energy = mass * C ** 2\n",
        "\n",
        "# Print the result\n",
        "print(f\"\\n{energy} joules of energy!\")\n"
      ],
      "metadata": {
        "id": "63yb1wh92o3T"
      },
      "execution_count": null,
      "outputs": []
    },
    {
      "cell_type": "markdown",
      "source": [
        "# 03_feet_to_inches.md"
      ],
      "metadata": {
        "id": "HxG1rn9s221e"
      }
    },
    {
      "cell_type": "code",
      "source": [
        "# Ask the user for a measurement in feet\n",
        "feet = float(input(\"Enter measurement in feet: \"))\n",
        "\n",
        "# Convert feet to inches\n",
        "inches = feet * 12\n",
        "\n",
        "# Print the result\n",
        "print(f\"{feet} feet is equal to {inches} inches.\")\n"
      ],
      "metadata": {
        "colab": {
          "base_uri": "https://localhost:8080/"
        },
        "id": "y_M3WfxS29Vv",
        "outputId": "8e5fbdcf-ea39-4c79-88de-9b965c8d9460"
      },
      "execution_count": 2,
      "outputs": [
        {
          "output_type": "stream",
          "name": "stdout",
          "text": [
            "Enter measurement in feet: 198\n",
            "198.0 feet is equal to 2376.0 inches.\n"
          ]
        }
      ]
    },
    {
      "cell_type": "markdown",
      "source": [
        "# 04_pythagorean_theorem.md"
      ],
      "metadata": {
        "id": "O6M5o7Ot30ww"
      }
    },
    {
      "cell_type": "code",
      "source": [
        "import math  # Import the math module to use math.sqrt()\n",
        "\n",
        "# Ask the user for the lengths of the two sides\n",
        "ab = float(input(\"Enter the length of AB: \"))\n",
        "ac = float(input(\"Enter the length of AC: \"))\n",
        "\n",
        "# Use the Pythagorean theorem: BC² = AB² + AC²\n",
        "bc = math.sqrt(ab ** 2 + ac ** 2)\n",
        "\n",
        "# Print the length of the hypotenuse\n",
        "print(\"The length of BC (the hypotenuse) is:\", bc)\n"
      ],
      "metadata": {
        "id": "T1kqHCnN4CpL"
      },
      "execution_count": null,
      "outputs": []
    },
    {
      "cell_type": "markdown",
      "source": [
        "# 05_remainder_division.md"
      ],
      "metadata": {
        "id": "uJHMfs-z4e4k"
      }
    },
    {
      "cell_type": "code",
      "source": [
        "# Ask the user for the first number\n",
        "num1 = int(input(\"Please enter an integer to be divided: \"))\n",
        "\n",
        "# Ask the user for the second number\n",
        "num2 = int(input(\"Please enter an integer to divide by: \"))\n",
        "\n",
        "# Calculate the quotient and remainder\n",
        "quotient = num1 // num2  # Integer division\n",
        "remainder = num1 % num2  # Modulus gives the remainder\n",
        "\n",
        "# Display the result\n",
        "print(f\"The result of this division is {quotient} with a remainder of {remainder}\")\n"
      ],
      "metadata": {
        "id": "vf6vHBjO4hD5"
      },
      "execution_count": null,
      "outputs": []
    },
    {
      "cell_type": "markdown",
      "source": [
        "# 06_rolldice.md"
      ],
      "metadata": {
        "id": "UBTtHTvQ4sKQ"
      }
    },
    {
      "cell_type": "code",
      "source": [
        "import random  # To generate random numbers\n",
        "\n",
        "# Simulate rolling two dice\n",
        "die1 = random.randint(1, 6)\n",
        "die2 = random.randint(1, 6)\n",
        "\n",
        "# Calculate total\n",
        "total = die1 + die2\n",
        "\n",
        "# Print results\n",
        "print(\"Rolling two dice...\")\n",
        "print(\"Die 1 rolled:\", die1)\n",
        "print(\"Die 2 rolled:\", die2)\n",
        "print(\"Total of both dice:\", total)\n"
      ],
      "metadata": {
        "id": "0vmeXocW4zER"
      },
      "execution_count": null,
      "outputs": []
    },
    {
      "cell_type": "markdown",
      "source": [
        "# 06_seconds_in_year.md"
      ],
      "metadata": {
        "id": "WFrtnmuI4-wU"
      }
    },
    {
      "cell_type": "code",
      "source": [
        "# Constants\n",
        "DAYS_IN_YEAR = 365\n",
        "HOURS_IN_DAY = 24\n",
        "MINUTES_IN_HOUR = 60\n",
        "SECONDS_IN_MINUTE = 60\n",
        "\n",
        "# Calculate total seconds in a year\n",
        "seconds_in_year = DAYS_IN_YEAR * HOURS_IN_DAY * MINUTES_IN_HOUR * SECONDS_IN_MINUTE\n",
        "\n",
        "# Display the result\n",
        "print(f\"There are {seconds_in_year} seconds in a year!\")\n"
      ],
      "metadata": {
        "id": "5lp1pjIP5GLW"
      },
      "execution_count": null,
      "outputs": []
    },
    {
      "cell_type": "markdown",
      "source": [
        "# 07_tiny_mad_lib.md"
      ],
      "metadata": {
        "id": "w4GNAVUK5RCW"
      }
    },
    {
      "cell_type": "code",
      "source": [
        "# Constant part of the sentence\n",
        "SENTENCE_START = \"Code in Place is fun. I learned to program and used Python to make my\"\n",
        "\n",
        "# Get user input\n",
        "adjective = input(\"Please type an adjective and press enter: \")\n",
        "noun = input(\"Please type a noun and press enter: \")\n",
        "verb = input(\"Please type a verb and press enter: \")\n",
        "\n",
        "# Print the final Mad Libs sentence\n",
        "print(f\"{SENTENCE_START} {adjective} {noun} {verb}!\")\n"
      ],
      "metadata": {
        "id": "2QiIvVJO5XWQ"
      },
      "execution_count": null,
      "outputs": []
    }
  ]
}